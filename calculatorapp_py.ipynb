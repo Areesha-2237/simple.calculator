{
  "nbformat": 4,
  "nbformat_minor": 0,
  "metadata": {
    "colab": {
      "provenance": [],
      "authorship_tag": "ABX9TyMU+iMDOLiTxvrSTrYLOTlX",
      "include_colab_link": true
    },
    "kernelspec": {
      "name": "python3",
      "display_name": "Python 3"
    },
    "language_info": {
      "name": "python"
    }
  },
  "cells": [
    {
      "cell_type": "markdown",
      "metadata": {
        "id": "view-in-github",
        "colab_type": "text"
      },
      "source": [
        "<a href=\"https://colab.research.google.com/github/Areesha-2237/simple.calculator/blob/main/calculatorapp_py.ipynb\" target=\"_parent\"><img src=\"https://colab.research.google.com/assets/colab-badge.svg\" alt=\"Open In Colab\"/></a>"
      ]
    },
    {
      "cell_type": "code",
      "execution_count": null,
      "metadata": {
        "id": "5pNkic0bPxsR"
      },
      "outputs": [],
      "source": [
        "python code"
      ]
    },
    {
      "cell_type": "code",
      "source": [
        "import streamlit as st\n",
        "\n",
        "# Simple Calculator using Streamlit\n",
        "\n",
        "# Function for Addition\n",
        "def add(x, y):\n",
        "    return x + y\n",
        "\n",
        "# Function for Subtraction\n",
        "def subtract(x, y):\n",
        "    return x - y\n",
        "\n",
        "# Function for Multiplication\n",
        "def multiply(x, y):\n",
        "    return x * y\n",
        "\n",
        "# Function for Division\n",
        "def divide(x, y):\n",
        "    if y == 0:\n",
        "        return \"Error! Division by zero.\"\n",
        "    return x / y\n",
        "\n",
        "# Main Streamlit app function\n",
        "def calculator():\n",
        "    st.title(\"Simple Calculator App\")\n",
        "\n",
        "    # Dropdown for selecting the operation\n",
        "    operation = st.selectbox(\"Choose an operation:\", [\"Add\", \"Subtract\", \"Multiply\", \"Divide\"])\n",
        "\n",
        "    # Input fields for numbers\n",
        "    num1 = st.number_input(\"Enter the first number:\", format=\"%f\")\n",
        "    num2 = st.number_input(\"Enter the second number:\", format=\"%f\")\n",
        "\n",
        "    # Button to calculate\n",
        "    if st.button(\"Calculate\"):\n",
        "        if operation == \"Add\":\n",
        "            result = add(num1, num2)\n",
        "        elif operation == \"Subtract\":\n",
        "            result = subtract(num1, num2)\n",
        "        elif operation == \"Multiply\":\n",
        "            result = multiply(num1, num2)\n",
        "        elif operation == \"Divide\":\n",
        "            result = divide(num1, num2)\n",
        "\n",
        "        # Display the result\n",
        "        st.success(f\"The result is: {result}\")\n",
        "\n",
        "# Run the Streamlit app\n",
        "if __name__ == \"__main__\":\n",
        "    calculator()\n"
      ],
      "metadata": {
        "colab": {
          "base_uri": "https://localhost:8080/"
        },
        "id": "B8ho7DFvQcOF",
        "outputId": "179053ff-0378-40dc-9bee-44195c18e47b"
      },
      "execution_count": 2,
      "outputs": [
        {
          "output_type": "stream",
          "name": "stdout",
          "text": [
            "Select operation:\n",
            "1. Add\n",
            "2. Subtract\n",
            "3. Multiply\n",
            "4. Divide\n",
            "Enter choice(1/2/3/4): 2\n",
            "Enter first number: 44\n",
            "Enter second number: 5\n",
            "44.0 - 5.0 = 39.0\n"
          ]
        }
      ]
    }
  ]
}