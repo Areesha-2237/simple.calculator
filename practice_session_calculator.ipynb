{
  "nbformat": 4,
  "nbformat_minor": 0,
  "metadata": {
    "colab": {
      "provenance": [],
      "authorship_tag": "ABX9TyMlfqlFPPO/zJ1ED6C9DLqk",
      "include_colab_link": true
    },
    "kernelspec": {
      "name": "python3",
      "display_name": "Python 3"
    },
    "language_info": {
      "name": "python"
    }
  },
  "cells": [
    {
      "cell_type": "markdown",
      "metadata": {
        "id": "view-in-github",
        "colab_type": "text"
      },
      "source": [
        "<a href=\"https://colab.research.google.com/github/Areesha-2237/simple.calculator/blob/main/practice_session_calculator.ipynb\" target=\"_parent\"><img src=\"https://colab.research.google.com/assets/colab-badge.svg\" alt=\"Open In Colab\"/></a>"
      ]
    },
    {
      "cell_type": "code",
      "execution_count": null,
      "metadata": {
        "id": "5pNkic0bPxsR"
      },
      "outputs": [],
      "source": [
        "python code"
      ]
    },
    {
      "cell_type": "code",
      "source": [
        "# Simple Calculator in Python\n",
        "\n",
        "# Function for Addition\n",
        "def add(x, y):\n",
        "    return x + y\n",
        "\n",
        "# Function for Subtraction\n",
        "def subtract(x, y):\n",
        "    return x - y\n",
        "\n",
        "# Function for Multiplication\n",
        "def multiply(x, y):\n",
        "    return x * y\n",
        "\n",
        "# Function for Division\n",
        "def divide(x, y):\n",
        "    if y == 0:\n",
        "        return \"Error! Division by zero.\"\n",
        "    return x / y\n",
        "\n",
        "# Main function to run the calculator\n",
        "def calculator():\n",
        "    print(\"Select operation:\")\n",
        "    print(\"1. Add\")\n",
        "    print(\"2. Subtract\")\n",
        "    print(\"3. Multiply\")\n",
        "    print(\"4. Divide\")\n",
        "\n",
        "    # Take input from the user\n",
        "    choice = input(\"Enter choice(1/2/3/4): \").strip()\n",
        "\n",
        "    # Check if choice is valid\n",
        "    if choice in ['1', '2', '3', '4']:\n",
        "        try:\n",
        "            num1 = float(input(\"Enter first number: \").strip())\n",
        "            num2 = float(input(\"Enter second number: \").strip())\n",
        "        except ValueError:\n",
        "            print(\"Invalid input! Please enter numbers.\")\n",
        "            return\n",
        "\n",
        "        # Perform the selected operation\n",
        "        if choice == '1':\n",
        "            print(f\"{num1} + {num2} = {add(num1, num2)}\")\n",
        "        elif choice == '2':\n",
        "            print(f\"{num1} - {num2} = {subtract(num1, num2)}\")\n",
        "        elif choice == '3':\n",
        "            print(f\"{num1} * {num2} = {multiply(num1, num2)}\")\n",
        "        elif choice == '4':\n",
        "            print(f\"{num1} / {num2} = {divide(num1, num2)}\")\n",
        "    else:\n",
        "        print(\"Invalid choice! Please choose a valid operation.\")\n",
        "\n",
        "# Run the calculator\n",
        "calculator()\n"
      ],
      "metadata": {
        "colab": {
          "base_uri": "https://localhost:8080/"
        },
        "id": "B8ho7DFvQcOF",
        "outputId": "179053ff-0378-40dc-9bee-44195c18e47b"
      },
      "execution_count": 2,
      "outputs": [
        {
          "output_type": "stream",
          "name": "stdout",
          "text": [
            "Select operation:\n",
            "1. Add\n",
            "2. Subtract\n",
            "3. Multiply\n",
            "4. Divide\n",
            "Enter choice(1/2/3/4): 2\n",
            "Enter first number: 44\n",
            "Enter second number: 5\n",
            "44.0 - 5.0 = 39.0\n"
          ]
        }
      ]
    }
  ]
}